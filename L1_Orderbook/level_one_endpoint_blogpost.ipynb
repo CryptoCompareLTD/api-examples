{
 "cells": [
  {
   "cell_type": "code",
   "execution_count": 1,
   "metadata": {},
   "outputs": [],
   "source": [
    "import requests\n",
    "import pandas as pd\n",
    "from decimal import Decimal"
   ]
  },
  {
   "cell_type": "code",
   "execution_count": 2,
   "metadata": {},
   "outputs": [
    {
     "data": {
      "text/plain": [
       "{'Response': 'Success',\n",
       " 'Message': '',\n",
       " 'HasWarning': False,\n",
       " 'Type': 100,\n",
       " 'RateLimit': {},\n",
       " 'Data': {'RAW': {'BTC': {'USD': {'BID': '7687.78', 'ASK': '7689.43'},\n",
       "    'GBP': {'BID': '6050.93', 'ASK': '6060.63'}},\n",
       "   'ETH': {'USD': {'BID': '242.74', 'ASK': '242.84'},\n",
       "    'GBP': {'BID': '190.75', 'ASK': '191.43'}}},\n",
       "  'DISPLAY': {'BTC': {'USD': {'BID': '$ 7,687.78', 'ASK': '$ 7,689.43'},\n",
       "    'GBP': {'BID': '£ 6,050.93', 'ASK': '£ 6,060.63'}},\n",
       "   'ETH': {'USD': {'BID': '$ 242.74', 'ASK': '$ 242.84'},\n",
       "    'GBP': {'BID': '£ 190.75', 'ASK': '£ 191.43'}}}}}"
      ]
     },
     "execution_count": 2,
     "metadata": {},
     "output_type": "execute_result"
    }
   ],
   "source": [
    "API_KEY = \"\"\"Put your API key here\"\"\"\n",
    "url = f'https://min-api.cryptocompare.com/data/ob/l1/top?&api_key={API_KEY}&fsyms=BTC,ETH&tsyms=USD,GBP&e=Coinbase'\n",
    "requests.get(url).json()"
   ]
  },
  {
   "cell_type": "code",
   "execution_count": 3,
   "metadata": {},
   "outputs": [],
   "source": [
    "def top_level(fsyms, tsyms, exchange):\n",
    "    url = f'https://min-api.cryptocompare.com/data/ob/l1/top?&api_key={API_KEY}'\n",
    "    fsyms_combined = ','.join(fsyms)\n",
    "    tsyms_combined = ','.join(tsyms)\n",
    "    url += f'&fsyms={fsyms_combined}&tsyms={tsyms_combined}&e={exchange}'\n",
    "    return requests.get(url).json()['Data']['RAW']"
   ]
  },
  {
   "cell_type": "code",
   "execution_count": 4,
   "metadata": {},
   "outputs": [
    {
     "data": {
      "text/plain": [
       "{'BTC': {'USD': {'BID': '7687.78', 'ASK': '7689.43'},\n",
       "  'GBP': {'BID': '6050.93', 'ASK': '6060.63'}},\n",
       " 'ETH': {'USD': {'BID': '242.74', 'ASK': '242.84'},\n",
       "  'GBP': {'BID': '190.75', 'ASK': '191.43'}}}"
      ]
     },
     "execution_count": 4,
     "metadata": {},
     "output_type": "execute_result"
    }
   ],
   "source": [
    "top_level(fsyms = ['BTC', 'ETH'], tsyms = ['USD', 'GBP'], exchange = 'Coinbase')"
   ]
  },
  {
   "cell_type": "code",
   "execution_count": 5,
   "metadata": {},
   "outputs": [
    {
     "data": {
      "text/plain": [
       "1.6500000000005457"
      ]
     },
     "execution_count": 5,
     "metadata": {},
     "output_type": "execute_result"
    }
   ],
   "source": [
    "level_one = top_level(fsyms = ['BTC', 'ETH'], tsyms = ['USD', 'GBP'], exchange = 'Coinbase')\n",
    "float(level_one['BTC']['USD']['ASK']) - float(level_one['BTC']['USD']['BID'])"
   ]
  },
  {
   "cell_type": "code",
   "execution_count": 6,
   "metadata": {},
   "outputs": [
    {
     "data": {
      "text/plain": [
       "Decimal('1.65')"
      ]
     },
     "execution_count": 6,
     "metadata": {},
     "output_type": "execute_result"
    }
   ],
   "source": [
    "level_one = top_level(fsyms = ['BTC', 'ETH'], tsyms = ['USD', 'GBP'], exchange = 'Coinbase')\n",
    "Decimal(level_one['BTC']['USD']['ASK']) - Decimal(level_one['BTC']['USD']['BID'])"
   ]
  },
  {
   "cell_type": "code",
   "execution_count": 7,
   "metadata": {},
   "outputs": [
    {
     "data": {
      "text/plain": [
       "1.65"
      ]
     },
     "execution_count": 7,
     "metadata": {},
     "output_type": "execute_result"
    }
   ],
   "source": [
    "float(Decimal(level_one['BTC']['USD']['ASK']) - Decimal(level_one['BTC']['USD']['BID']))"
   ]
  },
  {
   "cell_type": "code",
   "execution_count": 8,
   "metadata": {},
   "outputs": [],
   "source": [
    "def spread(fsym, tsym, exchange):\n",
    "    url = f'https://min-api.cryptocompare.com/data/ob/l1/top?&api_key={API_KEY}&fsyms={fsym}&tsyms={tsym}&e={exchange}'\n",
    "    response = requests.get(url).json()\n",
    "    raw_data = response['Data']['RAW']\n",
    "    bid = raw_data[fsym][tsym]['BID']\n",
    "    ask = raw_data[fsym][tsym]['ASK']\n",
    "    return float(Decimal(ask) - Decimal(bid))"
   ]
  },
  {
   "cell_type": "code",
   "execution_count": 9,
   "metadata": {},
   "outputs": [
    {
     "data": {
      "text/plain": [
       "1.65"
      ]
     },
     "execution_count": 9,
     "metadata": {},
     "output_type": "execute_result"
    }
   ],
   "source": [
    "spread('BTC', 'USD', 'Coinbase')"
   ]
  },
  {
   "cell_type": "code",
   "execution_count": 10,
   "metadata": {},
   "outputs": [],
   "source": [
    "def multispreads(fsyms, tsyms, exchange):\n",
    "    level_one = top_level(fsyms, tsyms, exchange)\n",
    "    spreads = {}\n",
    "    for fsym in fsyms:\n",
    "        fsym_dict = {}\n",
    "        for tsym in tsyms:\n",
    "            fsym_dict[tsym] = float(Decimal(level_one[fsym][tsym]['ASK']) - Decimal(level_one[fsym][tsym]['BID']))\n",
    "        spreads[fsym] = fsym_dict\n",
    "    return spreads"
   ]
  },
  {
   "cell_type": "code",
   "execution_count": 11,
   "metadata": {},
   "outputs": [
    {
     "data": {
      "text/plain": [
       "{'BTC': {'USD': 1.65, 'GBP': 9.47, 'EUR': 5.66},\n",
       " 'ETH': {'USD': 0.1, 'GBP': 0.61, 'EUR': 0.15},\n",
       " 'LTC': {'USD': 0.07, 'GBP': 0.28, 'EUR': 0.01},\n",
       " 'ETC': {'USD': 0.02, 'GBP': 0.063, 'EUR': 0.021},\n",
       " 'BCH': {'USD': 0.44, 'GBP': 1.39, 'EUR': 0.6}}"
      ]
     },
     "execution_count": 11,
     "metadata": {},
     "output_type": "execute_result"
    }
   ],
   "source": [
    "fsyms = ['BTC', 'ETH', 'LTC', 'ETC', 'BCH']\n",
    "tsyms = ['USD', 'GBP', 'EUR']\n",
    "exchange = 'Coinbase'\n",
    "top_level(fsyms, tsyms, exchange)\n",
    "spreads = multispreads(fsyms, tsyms, exchange)\n",
    "spreads"
   ]
  },
  {
   "cell_type": "code",
   "execution_count": 12,
   "metadata": {},
   "outputs": [
    {
     "data": {
      "text/html": [
       "<div>\n",
       "<style scoped>\n",
       "    .dataframe tbody tr th:only-of-type {\n",
       "        vertical-align: middle;\n",
       "    }\n",
       "\n",
       "    .dataframe tbody tr th {\n",
       "        vertical-align: top;\n",
       "    }\n",
       "\n",
       "    .dataframe thead th {\n",
       "        text-align: right;\n",
       "    }\n",
       "</style>\n",
       "<table border=\"1\" class=\"dataframe\">\n",
       "  <thead>\n",
       "    <tr style=\"text-align: right;\">\n",
       "      <th></th>\n",
       "      <th>BTC</th>\n",
       "      <th>ETH</th>\n",
       "      <th>LTC</th>\n",
       "      <th>ETC</th>\n",
       "      <th>BCH</th>\n",
       "    </tr>\n",
       "  </thead>\n",
       "  <tbody>\n",
       "    <tr>\n",
       "      <th>EUR</th>\n",
       "      <td>5.68</td>\n",
       "      <td>0.18</td>\n",
       "      <td>0.03</td>\n",
       "      <td>0.008</td>\n",
       "      <td>0.63</td>\n",
       "    </tr>\n",
       "    <tr>\n",
       "      <th>GBP</th>\n",
       "      <td>9.70</td>\n",
       "      <td>0.68</td>\n",
       "      <td>0.31</td>\n",
       "      <td>0.064</td>\n",
       "      <td>1.42</td>\n",
       "    </tr>\n",
       "    <tr>\n",
       "      <th>USD</th>\n",
       "      <td>1.65</td>\n",
       "      <td>0.10</td>\n",
       "      <td>0.05</td>\n",
       "      <td>0.020</td>\n",
       "      <td>0.24</td>\n",
       "    </tr>\n",
       "  </tbody>\n",
       "</table>\n",
       "</div>"
      ],
      "text/plain": [
       "      BTC   ETH   LTC    ETC   BCH\n",
       "EUR  5.68  0.18  0.03  0.008  0.63\n",
       "GBP  9.70  0.68  0.31  0.064  1.42\n",
       "USD  1.65  0.10  0.05  0.020  0.24"
      ]
     },
     "execution_count": 12,
     "metadata": {},
     "output_type": "execute_result"
    }
   ],
   "source": [
    "fsyms = ['BTC', 'ETH', 'LTC', 'ETC', 'BCH']\n",
    "tsyms = ['USD', 'GBP', 'EUR']\n",
    "exchange = 'Coinbase'\n",
    "spreads = multispreads(fsyms, tsyms, exchange)\n",
    "df = pd.DataFrame(spreads)\n",
    "df"
   ]
  },
  {
   "cell_type": "code",
   "execution_count": null,
   "metadata": {},
   "outputs": [],
   "source": []
  }
 ],
 "metadata": {
  "kernelspec": {
   "display_name": "Python 3",
   "language": "python",
   "name": "python3"
  },
  "language_info": {
   "codemirror_mode": {
    "name": "ipython",
    "version": 3
   },
   "file_extension": ".py",
   "mimetype": "text/x-python",
   "name": "python",
   "nbconvert_exporter": "python",
   "pygments_lexer": "ipython3",
   "version": "3.7.1"
  }
 },
 "nbformat": 4,
 "nbformat_minor": 2
}
